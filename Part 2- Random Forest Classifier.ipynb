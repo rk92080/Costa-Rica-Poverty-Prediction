{
 "cells": [
  {
   "cell_type": "markdown",
   "metadata": {},
   "source": [
    "# Part 2: Random Forest Classifier"
   ]
  },
  {
   "cell_type": "markdown",
   "metadata": {},
   "source": [
    "This lab is a countnuation of a previous notebook in which all the feature selection and data cleaning was done. \n",
    "\n",
    "The data from this notebook can be found on the kaggle competition page. Here is the description of the challenge: \n",
    "\n",
    "The Inter-American Development Bank is asking the Kaggle community for help with income qualification for some of the world's poorest families. Are you up for the challenge?\n",
    "\n",
    "Here's the backstory: Many social programs have a hard time making sure the right people are given enough aid. It’s especially tricky when a program focuses on the poorest segment of the population. The world’s poorest typically can’t provide the necessary income and expense records to prove that they qualify.\n",
    "\n",
    "In Latin America, one popular method uses an algorithm to verify income qualification. It’s called the Proxy Means Test (or PMT). With PMT, agencies use a model that considers a family’s observable household attributes like the material of their walls and ceiling, or the assets found in the home to classify them and predict their level of need.\n",
    "\n",
    "While this is an improvement, accuracy remains a problem as the region’s population grows and poverty declines.\n",
    "\n",
    "To improve on PMT, the IDB (the largest source of development financing for Latin America and the Caribbean) has turned to the Kaggle community. They believe that new methods beyond traditional econometrics, based on a dataset of Costa Rican household characteristics, might help improve PMT’s performance.\n",
    "\n",
    "Beyond Costa Rica, many countries face this same problem of inaccurately assessing social need. If Kagglers can generate an improvement, the new algorithm could be implemented in other countries around the world.\n",
    "\n",
    "https://www.kaggle.com/c/costa-rican-household-poverty-prediction"
   ]
  },
  {
   "cell_type": "code",
   "execution_count": 68,
   "metadata": {},
   "outputs": [],
   "source": [
    "import pandas as pd\n",
    "import matplotlib.pyplot as plt\n",
    "import numpy as np\n",
    "import warnings\n",
    "warnings.filterwarnings('ignore')\n",
    "%matplotlib inline\n",
    "import numpy as np\n",
    "\n",
    "pd.set_option('display.max_columns', None)  \n",
    "pd.set_option('display.max_rows', None) \n",
    "pd.set_option('display.max_colwidth', -1)"
   ]
  },
  {
   "cell_type": "markdown",
   "metadata": {},
   "source": [
    "## Create Random Forest  Model"
   ]
  },
  {
   "cell_type": "markdown",
   "metadata": {},
   "source": [
    "We will use the Random Forest Classifier for this problem. The Random Forest Classifier created multiple Decision Trees and makes predictions based on a composite of the results of those decision trees. We will also import packages to help us preform cross validation and calculate the f1 score, since that is the metric used to grade our model. "
   ]
  },
  {
   "cell_type": "code",
   "execution_count": 69,
   "metadata": {},
   "outputs": [],
   "source": [
    "from sklearn.ensemble import RandomForestClassifier\n",
    "from sklearn.metrics import f1_score, confusion_matrix\n",
    "from sklearn.model_selection import cross_val_score, StratifiedKFold"
   ]
  },
  {
   "cell_type": "markdown",
   "metadata": {},
   "source": [
    "Import our data and split the 'Target' variable from the rest of the dataframe. I have also imported StratifiedKFold which will allow use to do cross validation. It differs from regular Kfold in that it always contains samples from all the Target groups in both the validation set and the training set. "
   ]
  },
  {
   "cell_type": "code",
   "execution_count": 70,
   "metadata": {},
   "outputs": [],
   "source": [
    "df = pd.read_csv('cleaned_household_data.csv').set_index('idhogar')"
   ]
  },
  {
   "cell_type": "code",
   "execution_count": 71,
   "metadata": {},
   "outputs": [],
   "source": [
    "skf = StratifiedKFold(n_splits=5)\n",
    "\n",
    "df_X = df.drop(columns = ['Target'], axis = 1)\n",
    "df_y = df[['Target']]\n"
   ]
  },
  {
   "cell_type": "code",
   "execution_count": 72,
   "metadata": {},
   "outputs": [],
   "source": [
    "def cross_val(model):\n",
    "    f1_scores = []\n",
    "    for train_index, valid_index in skf.split(df_X, df_y):\n",
    "        train_X, train_y = df_X.iloc[train_index], df_y.iloc[train_index]\n",
    "        valid_X, valid_y = df_X.iloc[valid_index], df_y.iloc[valid_index]\n",
    "    \n",
    "        model.fit(train_X, train_y)\n",
    "        y_pred = model.predict(valid_X)\n",
    "        \n",
    "        f1_scores.append(f1_score(valid_y,y_pred,average = 'macro'))\n",
    "    \n",
    "    return f1_scores\n",
    "        "
   ]
  },
  {
   "cell_type": "markdown",
   "metadata": {},
   "source": [
    "In our next cell we will tune the hyper parameter. It is important that you run this cell multiple times for each tunable hyperparameter, and change the lines I have highlighted with the comments"
   ]
  },
  {
   "cell_type": "code",
   "execution_count": null,
   "metadata": {},
   "outputs": [],
   "source": [
    "n_estimators = [500, 750, 1000, 1500, 2000]\n",
    "max_depth = [3,5,10,20,30,40, None]\n",
    "min_samples_leaf = [1,2,3,4,8,10,20]\n",
    "max_features = ['sqrt', 'log2', .05,.1,.25,.33,.5,.75]\n",
    "min_impurity_decrease = [0, .0005, .005, .5, 1, 2, 10]\n",
    "max_leaf_nodes = [10, 100, 1000, None]\n",
    "\n",
    "\n",
    "mean_score= []\n",
    "std_score = []\n",
    "\n",
    "metric_list = min_impurity_decrease  #change this variables and run again \n",
    "\n",
    "for i in metric_list:  \n",
    "    rf = RandomForestClassifier(n_estimators=750,\n",
    "                              max_depth=20,  \n",
    "                              min_samples_leaf=2,\n",
    "                              max_features=.5, \n",
    "                              min_impurity_decrease = i, #move the i to match variables tuning for\n",
    "                              max_leaf_nodes = None,\n",
    "                              random_state=42,\n",
    "                               class_weight = 'balanced')\n",
    "    \n",
    "    mean_score.append(np.mean(cross_val(rf)))\n",
    "    std_score.append(np.std(cross_val(rf)))\n",
    "\n",
    "scores = pd.DataFrame(data = {'metric':metric_list, 'mean':mean_score, 'Std. Dev.':std_score})\n",
    "scores"
   ]
  },
  {
   "cell_type": "markdown",
   "metadata": {},
   "source": [
    "Now we will split our dataset into a validation set and training set. While this can be done to look for tweaks to made in the model, I did not do that here. Instead, I did it to take a look at the confusion matrix to get a better understanding of our models predictive ability. "
   ]
  },
  {
   "cell_type": "code",
   "execution_count": 34,
   "metadata": {},
   "outputs": [],
   "source": [
    "rand_split = np.random.rand(len(df))  \n",
    "train_list = rand_split < 0.7\n",
    "valid_list = rand_split >= 0.7\n",
    "\n",
    "train_X = df_X.iloc[train_list]\n",
    "train_y = df_y.iloc[train_list]\n",
    "\n",
    "valid_X = df_X.iloc[valid_list]\n",
    "valid_y = df_y.iloc[valid_list]"
   ]
  },
  {
   "cell_type": "code",
   "execution_count": 35,
   "metadata": {},
   "outputs": [],
   "source": [
    "rf = RandomForestClassifier(n_estimators=750,\n",
    "                            max_depth=20,  \n",
    "                            min_samples_leaf=2,\n",
    "                            max_features=.5, \n",
    "                            min_impurity_decrease = 0,\n",
    "                            max_leaf_nodes = None,\n",
    "                            random_state=42,\n",
    "                            class_weight = 'balanced')"
   ]
  },
  {
   "cell_type": "code",
   "execution_count": 36,
   "metadata": {},
   "outputs": [
    {
     "name": "stdout",
     "output_type": "stream",
     "text": [
      "Training f1 score: 0.986349820899546\n",
      "Validation f1 score: 0.3949036820920032\n"
     ]
    }
   ],
   "source": [
    "rf.fit(train_X,train_y)\n",
    "\n",
    "train_pred = rf.predict(train_X)\n",
    "valid_pred = rf.predict(valid_X)\n",
    "\n",
    "f1_train = f1_score(train_y,train_pred,average = 'macro')\n",
    "f1_valid = f1_score(valid_y,valid_pred,average = 'macro')\n",
    "\n",
    "print(f'Training f1 score: {f1_train}')\n",
    "print(f'Validation f1 score: {f1_valid}')"
   ]
  },
  {
   "cell_type": "code",
   "execution_count": 37,
   "metadata": {},
   "outputs": [
    {
     "data": {
      "text/plain": [
       "<matplotlib.axes._subplots.AxesSubplot at 0x200fe495388>"
      ]
     },
     "execution_count": 37,
     "metadata": {},
     "output_type": "execute_result"
    },
    {
     "data": {
      "image/png": "[encoded data removed]",
      "text/plain": [
       "<Figure size 432x288 with 2 Axes>"
      ]
     },
     "metadata": {
      "needs_background": "light"
     },
     "output_type": "display_data"
    }
   ],
   "source": [
    "import seaborn as sns\n",
    "\n",
    "labels = [1,2,3,4]\n",
    "\n",
    "train_con_mat = confusion_matrix(train_y, train_pred, labels = labels)\n",
    "train_cm = pd.DataFrame(train_con_mat, index = labels, columns = labels)\n",
    "\n",
    "sns.heatmap(train_cm,annot=True, fmt = 'g')"
   ]
  },
  {
   "cell_type": "code",
   "execution_count": 38,
   "metadata": {},
   "outputs": [
    {
     "data": {
      "text/plain": [
       "<matplotlib.axes._subplots.AxesSubplot at 0x20083302408>"
      ]
     },
     "execution_count": 38,
     "metadata": {},
     "output_type": "execute_result"
    },
    {
     "data": {
      "image/png": "[encoded data removed]",
      "text/plain": [
       "<Figure size 432x288 with 2 Axes>"
      ]
     },
     "metadata": {
      "needs_background": "light"
     },
     "output_type": "display_data"
    }
   ],
   "source": [
    "valid_con_mat = confusion_matrix(valid_y, valid_pred, labels = labels)\n",
    "valid_cm = pd.DataFrame(valid_con_mat, index = labels, columns = labels)\n",
    "\n",
    "sns.heatmap(valid_cm,annot=True, fmt = 'g')"
   ]
  },
  {
   "cell_type": "markdown",
   "metadata": {},
   "source": [
    "Unsuprisingly our model preforms significantly better in our training data then validation data. However, our validation score of .39 is not bad (the leader of the competition acheived a score of .45). We can also take a look at our feature importance. "
   ]
  },
  {
   "cell_type": "code",
   "execution_count": 39,
   "metadata": {},
   "outputs": [
    {
     "data": {
      "text/html": [
       "<div>\n",
       "<style scoped>\n",
       "    .dataframe tbody tr th:only-of-type {\n",
       "        vertical-align: middle;\n",
       "    }\n",
       "\n",
       "    .dataframe tbody tr th {\n",
       "        vertical-align: top;\n",
       "    }\n",
       "\n",
       "    .dataframe thead th {\n",
       "        text-align: right;\n",
       "    }\n",
       "</style>\n",
       "<table border=\"1\" class=\"dataframe\">\n",
       "  <thead>\n",
       "    <tr style=\"text-align: right;\">\n",
       "      <th></th>\n",
       "      <th>features</th>\n",
       "      <th>importance</th>\n",
       "    </tr>\n",
       "  </thead>\n",
       "  <tbody>\n",
       "    <tr>\n",
       "      <th>0</th>\n",
       "      <td>escolari_person</td>\n",
       "      <td>0.132167</td>\n",
       "    </tr>\n",
       "    <tr>\n",
       "      <th>10</th>\n",
       "      <td>meaneduc</td>\n",
       "      <td>0.084022</td>\n",
       "    </tr>\n",
       "    <tr>\n",
       "      <th>8</th>\n",
       "      <td>dependency</td>\n",
       "      <td>0.062405</td>\n",
       "    </tr>\n",
       "    <tr>\n",
       "      <th>11</th>\n",
       "      <td>overcrowding</td>\n",
       "      <td>0.058513</td>\n",
       "    </tr>\n",
       "    <tr>\n",
       "      <th>2</th>\n",
       "      <td>rooms</td>\n",
       "      <td>0.050000</td>\n",
       "    </tr>\n",
       "    <tr>\n",
       "      <th>14</th>\n",
       "      <td>qmobilephone</td>\n",
       "      <td>0.041023</td>\n",
       "    </tr>\n",
       "    <tr>\n",
       "      <th>9</th>\n",
       "      <td>edje</td>\n",
       "      <td>0.037898</td>\n",
       "    </tr>\n",
       "    <tr>\n",
       "      <th>15</th>\n",
       "      <td>escolari_head</td>\n",
       "      <td>0.036246</td>\n",
       "    </tr>\n",
       "    <tr>\n",
       "      <th>6</th>\n",
       "      <td>hhsize</td>\n",
       "      <td>0.036061</td>\n",
       "    </tr>\n",
       "    <tr>\n",
       "      <th>44</th>\n",
       "      <td>Youth</td>\n",
       "      <td>0.033358</td>\n",
       "    </tr>\n",
       "    <tr>\n",
       "      <th>1</th>\n",
       "      <td>v2a1</td>\n",
       "      <td>0.029110</td>\n",
       "    </tr>\n",
       "    <tr>\n",
       "      <th>21</th>\n",
       "      <td>eviv</td>\n",
       "      <td>0.027150</td>\n",
       "    </tr>\n",
       "    <tr>\n",
       "      <th>22</th>\n",
       "      <td>etecho</td>\n",
       "      <td>0.026831</td>\n",
       "    </tr>\n",
       "    <tr>\n",
       "      <th>20</th>\n",
       "      <td>epared</td>\n",
       "      <td>0.023702</td>\n",
       "    </tr>\n",
       "    <tr>\n",
       "      <th>38</th>\n",
       "      <td>instlevel2</td>\n",
       "      <td>0.022895</td>\n",
       "    </tr>\n",
       "    <tr>\n",
       "      <th>17</th>\n",
       "      <td>pared</td>\n",
       "      <td>0.019250</td>\n",
       "    </tr>\n",
       "    <tr>\n",
       "      <th>28</th>\n",
       "      <td>lugar1</td>\n",
       "      <td>0.019064</td>\n",
       "    </tr>\n",
       "    <tr>\n",
       "      <th>19</th>\n",
       "      <td>piso</td>\n",
       "      <td>0.018928</td>\n",
       "    </tr>\n",
       "    <tr>\n",
       "      <th>35</th>\n",
       "      <td>estadocivil3</td>\n",
       "      <td>0.017434</td>\n",
       "    </tr>\n",
       "    <tr>\n",
       "      <th>7</th>\n",
       "      <td>cielorazo</td>\n",
       "      <td>0.015915</td>\n",
       "    </tr>\n",
       "    <tr>\n",
       "      <th>39</th>\n",
       "      <td>instlevel5</td>\n",
       "      <td>0.014170</td>\n",
       "    </tr>\n",
       "    <tr>\n",
       "      <th>13</th>\n",
       "      <td>television</td>\n",
       "      <td>0.013905</td>\n",
       "    </tr>\n",
       "    <tr>\n",
       "      <th>43</th>\n",
       "      <td>instlevel</td>\n",
       "      <td>0.013559</td>\n",
       "    </tr>\n",
       "    <tr>\n",
       "      <th>4</th>\n",
       "      <td>v18q1</td>\n",
       "      <td>0.013298</td>\n",
       "    </tr>\n",
       "    <tr>\n",
       "      <th>37</th>\n",
       "      <td>instlevel1</td>\n",
       "      <td>0.012853</td>\n",
       "    </tr>\n",
       "    <tr>\n",
       "      <th>41</th>\n",
       "      <td>instlevel8</td>\n",
       "      <td>0.012560</td>\n",
       "    </tr>\n",
       "    <tr>\n",
       "      <th>23</th>\n",
       "      <td>tipovivi1</td>\n",
       "      <td>0.012252</td>\n",
       "    </tr>\n",
       "    <tr>\n",
       "      <th>31</th>\n",
       "      <td>lugar4</td>\n",
       "      <td>0.010783</td>\n",
       "    </tr>\n",
       "    <tr>\n",
       "      <th>30</th>\n",
       "      <td>lugar3</td>\n",
       "      <td>0.010724</td>\n",
       "    </tr>\n",
       "    <tr>\n",
       "      <th>34</th>\n",
       "      <td>estadocivil1</td>\n",
       "      <td>0.010532</td>\n",
       "    </tr>\n",
       "    <tr>\n",
       "      <th>32</th>\n",
       "      <td>lugar5</td>\n",
       "      <td>0.009499</td>\n",
       "    </tr>\n",
       "    <tr>\n",
       "      <th>5</th>\n",
       "      <td>r4t1</td>\n",
       "      <td>0.009230</td>\n",
       "    </tr>\n",
       "    <tr>\n",
       "      <th>18</th>\n",
       "      <td>energco</td>\n",
       "      <td>0.008333</td>\n",
       "    </tr>\n",
       "    <tr>\n",
       "      <th>27</th>\n",
       "      <td>tipovivi5</td>\n",
       "      <td>0.007895</td>\n",
       "    </tr>\n",
       "    <tr>\n",
       "      <th>29</th>\n",
       "      <td>lugar2</td>\n",
       "      <td>0.007690</td>\n",
       "    </tr>\n",
       "    <tr>\n",
       "      <th>36</th>\n",
       "      <td>estadocivil4</td>\n",
       "      <td>0.007293</td>\n",
       "    </tr>\n",
       "    <tr>\n",
       "      <th>3</th>\n",
       "      <td>refrig</td>\n",
       "      <td>0.007092</td>\n",
       "    </tr>\n",
       "    <tr>\n",
       "      <th>33</th>\n",
       "      <td>lugar6</td>\n",
       "      <td>0.006923</td>\n",
       "    </tr>\n",
       "    <tr>\n",
       "      <th>25</th>\n",
       "      <td>tipovivi3</td>\n",
       "      <td>0.006890</td>\n",
       "    </tr>\n",
       "    <tr>\n",
       "      <th>16</th>\n",
       "      <td>mobilephone</td>\n",
       "      <td>0.004799</td>\n",
       "    </tr>\n",
       "    <tr>\n",
       "      <th>24</th>\n",
       "      <td>tipovivi2</td>\n",
       "      <td>0.002619</td>\n",
       "    </tr>\n",
       "    <tr>\n",
       "      <th>40</th>\n",
       "      <td>instlevel7</td>\n",
       "      <td>0.001895</td>\n",
       "    </tr>\n",
       "    <tr>\n",
       "      <th>12</th>\n",
       "      <td>computer</td>\n",
       "      <td>0.001733</td>\n",
       "    </tr>\n",
       "    <tr>\n",
       "      <th>26</th>\n",
       "      <td>tipovivi4</td>\n",
       "      <td>0.001368</td>\n",
       "    </tr>\n",
       "    <tr>\n",
       "      <th>42</th>\n",
       "      <td>instlevel9</td>\n",
       "      <td>0.000131</td>\n",
       "    </tr>\n",
       "  </tbody>\n",
       "</table>\n",
       "</div>"
      ],
      "text/plain": [
       "           features  importance\n",
       "0   escolari_person  0.132167  \n",
       "10  meaneduc         0.084022  \n",
       "8   dependency       0.062405  \n",
       "11  overcrowding     0.058513  \n",
       "2   rooms            0.050000  \n",
       "14  qmobilephone     0.041023  \n",
       "9   edje             0.037898  \n",
       "15  escolari_head    0.036246  \n",
       "6   hhsize           0.036061  \n",
       "44  Youth            0.033358  \n",
       "1   v2a1             0.029110  \n",
       "21  eviv             0.027150  \n",
       "22  etecho           0.026831  \n",
       "20  epared           0.023702  \n",
       "38  instlevel2       0.022895  \n",
       "17  pared            0.019250  \n",
       "28  lugar1           0.019064  \n",
       "19  piso             0.018928  \n",
       "35  estadocivil3     0.017434  \n",
       "7   cielorazo        0.015915  \n",
       "39  instlevel5       0.014170  \n",
       "13  television       0.013905  \n",
       "43  instlevel        0.013559  \n",
       "4   v18q1            0.013298  \n",
       "37  instlevel1       0.012853  \n",
       "41  instlevel8       0.012560  \n",
       "23  tipovivi1        0.012252  \n",
       "31  lugar4           0.010783  \n",
       "30  lugar3           0.010724  \n",
       "34  estadocivil1     0.010532  \n",
       "32  lugar5           0.009499  \n",
       "5   r4t1             0.009230  \n",
       "18  energco          0.008333  \n",
       "27  tipovivi5        0.007895  \n",
       "29  lugar2           0.007690  \n",
       "36  estadocivil4     0.007293  \n",
       "3   refrig           0.007092  \n",
       "33  lugar6           0.006923  \n",
       "25  tipovivi3        0.006890  \n",
       "16  mobilephone      0.004799  \n",
       "24  tipovivi2        0.002619  \n",
       "40  instlevel7       0.001895  \n",
       "12  computer         0.001733  \n",
       "26  tipovivi4        0.001368  \n",
       "42  instlevel9       0.000131  "
      ]
     },
     "execution_count": 39,
     "metadata": {},
     "output_type": "execute_result"
    }
   ],
   "source": [
    "rf.feature_importances_\n",
    "\n",
    "df_features = pd.DataFrame(data = {'features' :df_X.columns, \n",
    "                                   'importance' :rf.feature_importances_})\n",
    "\n",
    "df_features.sort_values(by=['importance'], ascending = False)"
   ]
  },
  {
   "cell_type": "markdown",
   "metadata": {},
   "source": [
    "Using our confusion matrixes and feature importance list we can make tweaks to the model to improve preformance. That is something I will go back and do in the future. For now we will fit our model on the complete dataset and run our test data. "
   ]
  },
  {
   "cell_type": "code",
   "execution_count": 73,
   "metadata": {},
   "outputs": [
    {
     "data": {
      "text/plain": [
       "RandomForestClassifier(class_weight='balanced', max_depth=20, max_features=0.5,\n",
       "                       min_impurity_decrease=0, min_samples_leaf=2,\n",
       "                       n_estimators=750, random_state=42)"
      ]
     },
     "execution_count": 73,
     "metadata": {},
     "output_type": "execute_result"
    }
   ],
   "source": [
    "rf.fit(df_X,df_y)"
   ]
  },
  {
   "cell_type": "markdown",
   "metadata": {},
   "source": [
    "## Run Model on Testing Data"
   ]
  },
  {
   "cell_type": "markdown",
   "metadata": {},
   "source": [
    "We will import our test data and run our model on it. Then we will take our target values and map them into our raw test data to follow the required format. "
   ]
  },
  {
   "cell_type": "code",
   "execution_count": 74,
   "metadata": {},
   "outputs": [],
   "source": [
    "df_Test = pd.read_csv('cleaned_test_data.csv').set_index('idhogar')"
   ]
  },
  {
   "cell_type": "code",
   "execution_count": 75,
   "metadata": {},
   "outputs": [],
   "source": [
    "Test_predictions = rf.predict(df_Test)"
   ]
  },
  {
   "cell_type": "code",
   "execution_count": 76,
   "metadata": {},
   "outputs": [],
   "source": [
    "pred_mapping = {k:v for k,v in zip(df_Test.index,Test_predictions)}"
   ]
  },
  {
   "cell_type": "code",
   "execution_count": 77,
   "metadata": {},
   "outputs": [],
   "source": [
    "data_location= 'test.csv'\n",
    "submission = pd.read_csv(data_location, low_memory=False)"
   ]
  },
  {
   "cell_type": "code",
   "execution_count": 78,
   "metadata": {},
   "outputs": [],
   "source": [
    "submission['Target'] = submission['idhogar'].map(pred_mapping)\n",
    "\n",
    "submission = submission[['idhogar','Target']]\n",
    "submission = submission.rename(columns = {'idhogar':'id'})"
   ]
  },
  {
   "cell_type": "code",
   "execution_count": 79,
   "metadata": {},
   "outputs": [],
   "source": [
    "submission.to_csv('submission.csv',index=False)"
   ]
  },
  {
   "cell_type": "markdown",
   "metadata": {},
   "source": [
    "After submitting to Kaggle, I was able to get a score of .40250. Not a bad score considering that would put me in 253rd place on the leaderboard after my first submssion. Some further tweaks to reduce the number of features fed into the model or oversampling will likley increase that score.\n",
    "\n",
    "-Fin"
   ]
  },
  {
   "cell_type": "code",
   "execution_count": null,
   "metadata": {},
   "outputs": [],
   "source": []
  }
 ],
 "metadata": {
  "kernelspec": {
   "display_name": "Python 3",
   "language": "python",
   "name": "python3"
  },
  "language_info": {
   "codemirror_mode": {
    "name": "ipython",
    "version": 3
   },
   "file_extension": ".py",
   "mimetype": "text/x-python",
   "name": "python",
   "nbconvert_exporter": "python",
   "pygments_lexer": "ipython3",
   "version": "3.7.7"
  }
 },
 "nbformat": 4,
 "nbformat_minor": 2
}
